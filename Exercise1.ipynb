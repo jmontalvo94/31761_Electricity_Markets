{
 "cells": [
  {
   "cell_type": "code",
   "execution_count": 2,
   "metadata": {},
   "outputs": [
    {
     "data": {
      "text/plain": [
       "Plots.GRBackend()"
      ]
     },
     "execution_count": 2,
     "metadata": {},
     "output_type": "execute_result"
    }
   ],
   "source": [
    "using Plots\n",
    "using DataFrames\n",
    "gr()"
   ]
  },
  {
   "cell_type": "markdown",
   "metadata": {},
   "source": [
    "# Exercise session 1: Day-ahead electricity markets - Basics"
   ]
  },
  {
   "cell_type": "markdown",
   "metadata": {},
   "source": [
    "## Problem 1: General description of a day-ahead market and the example of the Nord Pool\n",
    "\n",
    "**1.1 What is the common name of the day-ahead market in Nord Pool?**\n",
    "\n",
    "Elspot\n",
    "\n",
    "**1.2 How many participants are they in the day-ahead market? And how many power producers in the whole area covered by the Nord Pool? Can you explain why all power producers do not trade through the Nord Pool, and how they then proceed? [Link](https://www.nordpoolgroup.com/the-power-market/The-market-members/)**\n",
    "\n",
    "360 members and 370 power producers.\n",
    "They don't trade through Nord Pool because they do bilateral contracts or through brokers.\n",
    "\n",
    "**1.3 What is the overall volume (on average) of energy generated over the Nordic and Baltic countries?**\n",
    "\n",
    "**1.4 What was the average systems price in the Nordic area in 2018?**\n",
    "\n",
    "43.99 €/MWh\n",
    "\n",
    "**1.5 What was the overall amount of energy exchanged through the Nord Pool (Nordic and Baltic) day-ahead market in 2018? What about the UK?**\n",
    "\n",
    "396 TWh in the Nordic and Baltic day-ahead market and 120 TWh in the UK.\n",
    "\n",
    "**1.6 What are the various types of power production technologies in the Nordic and Baltic countries? Rank them in terms of marginal production costs (in increasing order). What are the most important ones?**\n",
    "  1. Solar\n",
    "  2. Wind\n",
    "  3. Hydro\n",
    "  4. Nuclear\n",
    "  5. Biomass/CHP\n",
    "  6. Thermal (CCGT, Coal, and Oil)\n",
    "\n",
    "**1.7 Who are the various participants in the day-ahead market? What is their role?**\n",
    "* Generator\n",
    "* Trader/Broker\n",
    "* Large Consumers\n",
    "* Retailers\n",
    "\n",
    "**1.8 Who owns Nord Pool? (see webpage \\About us\")**\n",
    "\n",
    "Nord Pool is owned by Euronext (66%) and the Nordic Transmission System Operators and Litgrid (Lithuanian TSO) retain 34% ownership through a joint holding company.\n",
    "\n",
    "**1.9 What is the market time unit (i.e, a few minutes, a whole day, or...?), and what are the bidding areas?**\n",
    "\n",
    "For the DAM is hourly, RTM is 15-minutes, 30-minutes, and hourly bids. There are 15 bidding areas, NO1-5, DK1-2, SE1-4, FI, EE, LV, and LT.\n",
    "\n",
    "**1.10 What are the assumptions for the definition of bidding areas?**\n",
    "\n",
    "The system price is an unconstrained market clearing reference price for the Nordic region. It is calculated without any congestion restrictions by setting capacities to infinity."
   ]
  },
  {
   "cell_type": "markdown",
   "metadata": {},
   "source": [
    "## Problem 2: Consideration and ordering of supply offers in a pool\n",
    "\n",
    "**2.1 What do we call the \"supply curve\" in the day-ahead market?**\n",
    "\n",
    "Aggregated supply curve or merit-order curve\n",
    "\n",
    "**2.2 How is it defined based on a set of offers?**\n",
    "\n",
    "Ordered by increasing marginal cost or bids.\n",
    "\n",
    "**2.3 Draw (paper, or plot based on Matlab/R/Excel/etc.) the supply curve for this market time unit.**\n",
    "\n",
    "|Supplier name| Supplier id.| Quantity [MWh]| Price [EUR/MWh]|\n",
    "|---|---|---|---|\n",
    "|FlexiGas| G1| 15| 75|\n",
    "|Nuke22 |G2| 100| 15|\n",
    "|ShinyPower |G3| 32| 0\n",
    "|RoskildeCHP |G4| 25| 42|\n",
    "|BlueWater |G5| 70| 10|"
   ]
  },
  {
   "cell_type": "code",
   "execution_count": 79,
   "metadata": {},
   "outputs": [
    {
     "data": {
      "text/html": [
       "<table class=\"data-frame\"><thead><tr><th></th><th>Supplier</th><th>ID</th><th>Quantity</th><th>AggregatedQ</th><th>Price</th></tr><tr><th></th><th>String</th><th>String</th><th>Int64</th><th>Int64</th><th>Int64</th></tr></thead><tbody><p>6 rows × 5 columns</p><tr><th>1</th><td>Zero</td><td>Z</td><td>0</td><td>0</td><td>0</td></tr><tr><th>2</th><td>ShinyPower</td><td>G₃</td><td>32</td><td>32</td><td>0</td></tr><tr><th>3</th><td>BlueWater</td><td>G₅</td><td>70</td><td>102</td><td>10</td></tr><tr><th>4</th><td>Nuke22</td><td>G₂</td><td>100</td><td>202</td><td>15</td></tr><tr><th>5</th><td>RoskildeCHP</td><td>G₄</td><td>25</td><td>227</td><td>42</td></tr><tr><th>6</th><td>FlexiGas</td><td>G₁</td><td>15</td><td>242</td><td>75</td></tr></tbody></table>"
      ],
      "text/latex": [
       "\\begin{tabular}{r|ccccc}\n",
       "\t& Supplier & ID & Quantity & AggregatedQ & Price\\\\\n",
       "\t\\hline\n",
       "\t& String & String & Int64 & Int64 & Int64\\\\\n",
       "\t\\hline\n",
       "\t1 & Zero & Z & 0 & 0 & 0 \\\\\n",
       "\t2 & ShinyPower & G₃ & 32 & 32 & 0 \\\\\n",
       "\t3 & BlueWater & G₅ & 70 & 102 & 10 \\\\\n",
       "\t4 & Nuke22 & G₂ & 100 & 202 & 15 \\\\\n",
       "\t5 & RoskildeCHP & G₄ & 25 & 227 & 42 \\\\\n",
       "\t6 & FlexiGas & G₁ & 15 & 242 & 75 \\\\\n",
       "\\end{tabular}\n"
      ],
      "text/plain": [
       "6×5 DataFrame\n",
       "│ Row │ Supplier    │ ID     │ Quantity │ AggregatedQ │ Price │\n",
       "│     │ \u001b[90mString\u001b[39m      │ \u001b[90mString\u001b[39m │ \u001b[90mInt64\u001b[39m    │ \u001b[90mInt64\u001b[39m       │ \u001b[90mInt64\u001b[39m │\n",
       "├─────┼─────────────┼────────┼──────────┼─────────────┼───────┤\n",
       "│ 1   │ Zero        │ Z      │ 0        │ 0           │ 0     │\n",
       "│ 2   │ ShinyPower  │ G₃     │ 32       │ 32          │ 0     │\n",
       "│ 3   │ BlueWater   │ G₅     │ 70       │ 102         │ 10    │\n",
       "│ 4   │ Nuke22      │ G₂     │ 100      │ 202         │ 15    │\n",
       "│ 5   │ RoskildeCHP │ G₄     │ 25       │ 227         │ 42    │\n",
       "│ 6   │ FlexiGas    │ G₁     │ 15       │ 242         │ 75    │"
      ]
     },
     "execution_count": 79,
     "metadata": {},
     "output_type": "execute_result"
    }
   ],
   "source": [
    "supplier=[\"FlexiGas\",\"Nuke22\",\"ShinyPower\",\"RoskildeCHP\",\"BlueWater\",\"Zero\"]\n",
    "id=[\"G₁\",\"G₂\",\"G₃\",\"G₄\",\"G₅\", \"Z\"]\n",
    "quantity=[15,100,32,25,70,0]\n",
    "price=[75,15,0,42,10,0]\n",
    "\n",
    "bidsSupplier = DataFrame(Supplier=supplier,ID=id,Quantity=quantity,Price=price)\n",
    "sort!(bidsSupplier,[:Price, :Quantity])\n",
    "\n",
    "aggregatedQ=zeros(Int64, 6)\n",
    "\n",
    "i=1\n",
    "for p in bidsSupplier.Quantity\n",
    "    if i==1\n",
    "    else\n",
    "    aggregatedQ[i]=aggregatedQ[i-1]+p\n",
    "    end\n",
    "    i=i+1\n",
    "end\n",
    "\n",
    "insertcols!(bidsSupplier,4,AggregatedQ=aggregatedQ)"
   ]
  },
  {
   "cell_type": "code",
   "execution_count": 80,
   "metadata": {},
   "outputs": [
    {
     "data": {
      "image/svg+xml": [
       "<?xml version=\"1.0\" encoding=\"utf-8\"?>\n",
       "<svg xmlns=\"http://www.w3.org/2000/svg\" xmlns:xlink=\"http://www.w3.org/1999/xlink\" width=\"600\" height=\"400\" viewBox=\"0 0 2400 1600\">\n",
       "<defs>\n",
       "  <clipPath id=\"clip4600\">\n",
       "    <rect x=\"0\" y=\"0\" width=\"2400\" height=\"1600\"/>\n",
       "  </clipPath>\n",
       "</defs>\n",
       "<path clip-path=\"url(#clip4600)\" d=\"\n",
       "M0 1600 L2400 1600 L2400 0 L0 0  Z\n",
       "  \" fill=\"#ffffff\" fill-rule=\"evenodd\" fill-opacity=\"1\"/>\n",
       "<defs>\n",
       "  <clipPath id=\"clip4601\">\n",
       "    <rect x=\"480\" y=\"0\" width=\"1681\" height=\"1600\"/>\n",
       "  </clipPath>\n",
       "</defs>\n",
       "<path clip-path=\"url(#clip4600)\" d=\"\n",
       "M202.373 1425.62 L2352.76 1425.62 L2352.76 47.2441 L202.373 47.2441  Z\n",
       "  \" fill=\"#ffffff\" fill-rule=\"evenodd\" fill-opacity=\"1\"/>\n",
       "<defs>\n",
       "  <clipPath id=\"clip4602\">\n",
       "    <rect x=\"202\" y=\"47\" width=\"2151\" height=\"1379\"/>\n",
       "  </clipPath>\n",
       "</defs>\n",
       "<polyline clip-path=\"url(#clip4602)\" style=\"stroke:#000000; stroke-width:2; stroke-opacity:0.1; fill:none\" points=\"\n",
       "  202.373,1425.62 202.373,47.2441 \n",
       "  \"/>\n",
       "<polyline clip-path=\"url(#clip4602)\" style=\"stroke:#000000; stroke-width:2; stroke-opacity:0.1; fill:none\" points=\"\n",
       "  646.667,1425.62 646.667,47.2441 \n",
       "  \"/>\n",
       "<polyline clip-path=\"url(#clip4602)\" style=\"stroke:#000000; stroke-width:2; stroke-opacity:0.1; fill:none\" points=\"\n",
       "  1090.96,1425.62 1090.96,47.2441 \n",
       "  \"/>\n",
       "<polyline clip-path=\"url(#clip4602)\" style=\"stroke:#000000; stroke-width:2; stroke-opacity:0.1; fill:none\" points=\"\n",
       "  1535.25,1425.62 1535.25,47.2441 \n",
       "  \"/>\n",
       "<polyline clip-path=\"url(#clip4602)\" style=\"stroke:#000000; stroke-width:2; stroke-opacity:0.1; fill:none\" points=\"\n",
       "  1979.55,1425.62 1979.55,47.2441 \n",
       "  \"/>\n",
       "<polyline clip-path=\"url(#clip4602)\" style=\"stroke:#000000; stroke-width:2; stroke-opacity:0.1; fill:none\" points=\"\n",
       "  202.373,1386.61 2352.76,1386.61 \n",
       "  \"/>\n",
       "<polyline clip-path=\"url(#clip4602)\" style=\"stroke:#000000; stroke-width:2; stroke-opacity:0.1; fill:none\" points=\"\n",
       "  202.373,1039.85 2352.76,1039.85 \n",
       "  \"/>\n",
       "<polyline clip-path=\"url(#clip4602)\" style=\"stroke:#000000; stroke-width:2; stroke-opacity:0.1; fill:none\" points=\"\n",
       "  202.373,693.086 2352.76,693.086 \n",
       "  \"/>\n",
       "<polyline clip-path=\"url(#clip4602)\" style=\"stroke:#000000; stroke-width:2; stroke-opacity:0.1; fill:none\" points=\"\n",
       "  202.373,346.325 2352.76,346.325 \n",
       "  \"/>\n",
       "<polyline clip-path=\"url(#clip4600)\" style=\"stroke:#000000; stroke-width:4; stroke-opacity:1; fill:none\" points=\"\n",
       "  202.373,1425.62 2352.76,1425.62 \n",
       "  \"/>\n",
       "<polyline clip-path=\"url(#clip4600)\" style=\"stroke:#000000; stroke-width:4; stroke-opacity:1; fill:none\" points=\"\n",
       "  202.373,1425.62 202.373,47.2441 \n",
       "  \"/>\n",
       "<polyline clip-path=\"url(#clip4600)\" style=\"stroke:#000000; stroke-width:4; stroke-opacity:1; fill:none\" points=\"\n",
       "  202.373,1425.62 202.373,1409.08 \n",
       "  \"/>\n",
       "<polyline clip-path=\"url(#clip4600)\" style=\"stroke:#000000; stroke-width:4; stroke-opacity:1; fill:none\" points=\"\n",
       "  646.667,1425.62 646.667,1409.08 \n",
       "  \"/>\n",
       "<polyline clip-path=\"url(#clip4600)\" style=\"stroke:#000000; stroke-width:4; stroke-opacity:1; fill:none\" points=\"\n",
       "  1090.96,1425.62 1090.96,1409.08 \n",
       "  \"/>\n",
       "<polyline clip-path=\"url(#clip4600)\" style=\"stroke:#000000; stroke-width:4; stroke-opacity:1; fill:none\" points=\"\n",
       "  1535.25,1425.62 1535.25,1409.08 \n",
       "  \"/>\n",
       "<polyline clip-path=\"url(#clip4600)\" style=\"stroke:#000000; stroke-width:4; stroke-opacity:1; fill:none\" points=\"\n",
       "  1979.55,1425.62 1979.55,1409.08 \n",
       "  \"/>\n",
       "<polyline clip-path=\"url(#clip4600)\" style=\"stroke:#000000; stroke-width:4; stroke-opacity:1; fill:none\" points=\"\n",
       "  202.373,1386.61 228.178,1386.61 \n",
       "  \"/>\n",
       "<polyline clip-path=\"url(#clip4600)\" style=\"stroke:#000000; stroke-width:4; stroke-opacity:1; fill:none\" points=\"\n",
       "  202.373,1039.85 228.178,1039.85 \n",
       "  \"/>\n",
       "<polyline clip-path=\"url(#clip4600)\" style=\"stroke:#000000; stroke-width:4; stroke-opacity:1; fill:none\" points=\"\n",
       "  202.373,693.086 228.178,693.086 \n",
       "  \"/>\n",
       "<polyline clip-path=\"url(#clip4600)\" style=\"stroke:#000000; stroke-width:4; stroke-opacity:1; fill:none\" points=\"\n",
       "  202.373,346.325 228.178,346.325 \n",
       "  \"/>\n",
       "<g clip-path=\"url(#clip4600)\">\n",
       "<text style=\"fill:#000000; fill-opacity:1; font-family:Arial,Helvetica Neue,Helvetica,sans-serif; font-size:48px; text-anchor:middle;\" transform=\"rotate(0, 202.373, 1479.62)\" x=\"202.373\" y=\"1479.62\">0</text>\n",
       "</g>\n",
       "<g clip-path=\"url(#clip4600)\">\n",
       "<text style=\"fill:#000000; fill-opacity:1; font-family:Arial,Helvetica Neue,Helvetica,sans-serif; font-size:48px; text-anchor:middle;\" transform=\"rotate(0, 646.667, 1479.62)\" x=\"646.667\" y=\"1479.62\">50</text>\n",
       "</g>\n",
       "<g clip-path=\"url(#clip4600)\">\n",
       "<text style=\"fill:#000000; fill-opacity:1; font-family:Arial,Helvetica Neue,Helvetica,sans-serif; font-size:48px; text-anchor:middle;\" transform=\"rotate(0, 1090.96, 1479.62)\" x=\"1090.96\" y=\"1479.62\">100</text>\n",
       "</g>\n",
       "<g clip-path=\"url(#clip4600)\">\n",
       "<text style=\"fill:#000000; fill-opacity:1; font-family:Arial,Helvetica Neue,Helvetica,sans-serif; font-size:48px; text-anchor:middle;\" transform=\"rotate(0, 1535.25, 1479.62)\" x=\"1535.25\" y=\"1479.62\">150</text>\n",
       "</g>\n",
       "<g clip-path=\"url(#clip4600)\">\n",
       "<text style=\"fill:#000000; fill-opacity:1; font-family:Arial,Helvetica Neue,Helvetica,sans-serif; font-size:48px; text-anchor:middle;\" transform=\"rotate(0, 1979.55, 1479.62)\" x=\"1979.55\" y=\"1479.62\">200</text>\n",
       "</g>\n",
       "<g clip-path=\"url(#clip4600)\">\n",
       "<text style=\"fill:#000000; fill-opacity:1; font-family:Arial,Helvetica Neue,Helvetica,sans-serif; font-size:48px; text-anchor:end;\" transform=\"rotate(0, 178.373, 1404.11)\" x=\"178.373\" y=\"1404.11\">0</text>\n",
       "</g>\n",
       "<g clip-path=\"url(#clip4600)\">\n",
       "<text style=\"fill:#000000; fill-opacity:1; font-family:Arial,Helvetica Neue,Helvetica,sans-serif; font-size:48px; text-anchor:end;\" transform=\"rotate(0, 178.373, 1057.35)\" x=\"178.373\" y=\"1057.35\">20</text>\n",
       "</g>\n",
       "<g clip-path=\"url(#clip4600)\">\n",
       "<text style=\"fill:#000000; fill-opacity:1; font-family:Arial,Helvetica Neue,Helvetica,sans-serif; font-size:48px; text-anchor:end;\" transform=\"rotate(0, 178.373, 710.586)\" x=\"178.373\" y=\"710.586\">40</text>\n",
       "</g>\n",
       "<g clip-path=\"url(#clip4600)\">\n",
       "<text style=\"fill:#000000; fill-opacity:1; font-family:Arial,Helvetica Neue,Helvetica,sans-serif; font-size:48px; text-anchor:end;\" transform=\"rotate(0, 178.373, 363.825)\" x=\"178.373\" y=\"363.825\">60</text>\n",
       "</g>\n",
       "<g clip-path=\"url(#clip4600)\">\n",
       "<text style=\"fill:#000000; fill-opacity:1; font-family:Arial,Helvetica Neue,Helvetica,sans-serif; font-size:66px; text-anchor:middle;\" transform=\"rotate(0, 1277.56, 1559.48)\" x=\"1277.56\" y=\"1559.48\">Quantity [MWh]</text>\n",
       "</g>\n",
       "<g clip-path=\"url(#clip4600)\">\n",
       "<text style=\"fill:#000000; fill-opacity:1; font-family:Arial,Helvetica Neue,Helvetica,sans-serif; font-size:66px; text-anchor:middle;\" transform=\"rotate(-90, 89.2861, 736.431)\" x=\"89.2861\" y=\"736.431\">Price [EUR/MWh]</text>\n",
       "</g>\n",
       "<polyline clip-path=\"url(#clip4602)\" style=\"stroke:#8b0000; stroke-width:8; stroke-opacity:1; fill:none\" points=\"\n",
       "  202.373,1386.61 202.373,1386.61 486.721,1386.61 486.721,1213.23 1108.73,1213.23 1108.73,1126.54 1997.32,1126.54 1997.32,658.41 2219.47,658.41 2219.47,86.2547 \n",
       "  2352.76,86.2547 \n",
       "  \"/>\n",
       "</svg>\n"
      ]
     },
     "execution_count": 80,
     "metadata": {},
     "output_type": "execute_result"
    }
   ],
   "source": [
    "plot(bidsSupplier.AggregatedQ,bidsSupplier.Price,w=2,t=:steppre, xlim=(0,sum(bidsSupplier.Quantity)), xlab=\"Quantity [MWh]\", ylab=\"Price [EUR/MWh]\", color=\"darkred\", legend=false)"
   ]
  },
  {
   "cell_type": "markdown",
   "metadata": {},
   "source": [
    "**2.4 What is the total amount of energy offered through the market?**"
   ]
  },
  {
   "cell_type": "code",
   "execution_count": 46,
   "metadata": {},
   "outputs": [
    {
     "data": {
      "text/plain": [
       "242"
      ]
     },
     "execution_count": 46,
     "metadata": {},
     "output_type": "execute_result"
    }
   ],
   "source": [
    "maximum(aggregatedQ)"
   ]
  },
  {
   "cell_type": "markdown",
   "metadata": {},
   "source": [
    "**2.5 By the way... Can they be other types of offers than single-hourly offers?**\n",
    "\n",
    "Yes, block offers, exclusive group, and flexi offers."
   ]
  },
  {
   "cell_type": "markdown",
   "metadata": {},
   "source": [
    "## Problem 3:\n",
    "\n",
    "**3.1 What do we call the \"demand curve\" in the day-ahead market?**\n",
    "\n",
    "Aggregated demand curve\n",
    "\n",
    "**3.2 How is it defined based on a set of offers?**\n",
    "\n",
    "It's sorted from the highest priced offer to the lowest.\n",
    "\n",
    "**3.3 Draw (paper, or plot based on Matlab/R/Excel/etc.) the demand curve for this market time unit.**\n",
    "\n",
    "|Demand name| Demand id.| Quantity [MWh]| Price [EUR/MWh]|\n",
    "|---|---|---|---|\n",
    "|WeLovePower| D1| 35| 65|\n",
    "|CleanCharge| D2| 23| 78|\n",
    "|JyskeEl| D3| 12| 10|\n",
    "|ElRetail| D4| 38| 46|\n",
    "|QualiWatt| D5| 43| 63|\n",
    "|IntelliWatt| D6| 16| 32|\n",
    "|El-Forbundet| D7| 57| 50|\n"
   ]
  },
  {
   "cell_type": "code",
   "execution_count": 82,
   "metadata": {},
   "outputs": [
    {
     "data": {
      "text/html": [
       "<table class=\"data-frame\"><thead><tr><th></th><th>Consumer</th><th>ID</th><th>Quantity</th><th>AggregatedQ</th><th>Price</th></tr><tr><th></th><th>String</th><th>String</th><th>Int64</th><th>Float64</th><th>Float64</th></tr></thead><tbody><p>8 rows × 5 columns</p><tr><th>1</th><td>Zero</td><td>Z</td><td>0</td><td>0.0</td><td>78.01</td></tr><tr><th>2</th><td>CleanCharge</td><td>D₂</td><td>23</td><td>23.0</td><td>78.0</td></tr><tr><th>3</th><td>WeLovePower</td><td>D₁</td><td>35</td><td>58.0</td><td>65.0</td></tr><tr><th>4</th><td>QualiWatt</td><td>D₅</td><td>43</td><td>101.0</td><td>63.0</td></tr><tr><th>5</th><td>El-Forbundet</td><td>D₇</td><td>57</td><td>158.0</td><td>50.0</td></tr><tr><th>6</th><td>ElRetail</td><td>D₄</td><td>38</td><td>196.0</td><td>46.0</td></tr><tr><th>7</th><td>IntelliWatt</td><td>D₆</td><td>16</td><td>212.0</td><td>32.0</td></tr><tr><th>8</th><td>JyskeEl</td><td>D₃</td><td>12</td><td>224.0</td><td>10.0</td></tr></tbody></table>"
      ],
      "text/latex": [
       "\\begin{tabular}{r|ccccc}\n",
       "\t& Consumer & ID & Quantity & AggregatedQ & Price\\\\\n",
       "\t\\hline\n",
       "\t& String & String & Int64 & Float64 & Float64\\\\\n",
       "\t\\hline\n",
       "\t1 & Zero & Z & 0 & 0.0 & 78.01 \\\\\n",
       "\t2 & CleanCharge & D₂ & 23 & 23.0 & 78.0 \\\\\n",
       "\t3 & WeLovePower & D₁ & 35 & 58.0 & 65.0 \\\\\n",
       "\t4 & QualiWatt & D₅ & 43 & 101.0 & 63.0 \\\\\n",
       "\t5 & El-Forbundet & D₇ & 57 & 158.0 & 50.0 \\\\\n",
       "\t6 & ElRetail & D₄ & 38 & 196.0 & 46.0 \\\\\n",
       "\t7 & IntelliWatt & D₆ & 16 & 212.0 & 32.0 \\\\\n",
       "\t8 & JyskeEl & D₃ & 12 & 224.0 & 10.0 \\\\\n",
       "\\end{tabular}\n"
      ],
      "text/plain": [
       "8×5 DataFrame\n",
       "│ Row │ Consumer     │ ID     │ Quantity │ AggregatedQ │ Price   │\n",
       "│     │ \u001b[90mString\u001b[39m       │ \u001b[90mString\u001b[39m │ \u001b[90mInt64\u001b[39m    │ \u001b[90mFloat64\u001b[39m     │ \u001b[90mFloat64\u001b[39m │\n",
       "├─────┼──────────────┼────────┼──────────┼─────────────┼─────────┤\n",
       "│ 1   │ Zero         │ Z      │ 0        │ 0.0         │ 78.01   │\n",
       "│ 2   │ CleanCharge  │ D₂     │ 23       │ 23.0        │ 78.0    │\n",
       "│ 3   │ WeLovePower  │ D₁     │ 35       │ 58.0        │ 65.0    │\n",
       "│ 4   │ QualiWatt    │ D₅     │ 43       │ 101.0       │ 63.0    │\n",
       "│ 5   │ El-Forbundet │ D₇     │ 57       │ 158.0       │ 50.0    │\n",
       "│ 6   │ ElRetail     │ D₄     │ 38       │ 196.0       │ 46.0    │\n",
       "│ 7   │ IntelliWatt  │ D₆     │ 16       │ 212.0       │ 32.0    │\n",
       "│ 8   │ JyskeEl      │ D₃     │ 12       │ 224.0       │ 10.0    │"
      ]
     },
     "execution_count": 82,
     "metadata": {},
     "output_type": "execute_result"
    }
   ],
   "source": [
    "consumer=[\"WeLovePower\",\"CleanCharge\",\"JyskeEl\",\"ElRetail\",\"QualiWatt\",\"IntelliWatt\", \"El-Forbundet\",\"Zero\"]\n",
    "id=[\"D₁\",\"D₂\",\"D₃\",\"D₄\",\"D₅\",\"D₆\",\"D₇\",\"Z\"]\n",
    "quantity=[35,23,12,38,43,16,57,0]\n",
    "price=[65,78,10,46,63,32,50,78.01]\n",
    "\n",
    "bidsConsumer = DataFrame(Consumer=consumer,ID=id,Quantity=quantity,Price=price)\n",
    "sort!(bidsConsumer,[:Price, :Quantity],rev=true)\n",
    "\n",
    "aggregatedQ=zeros(size(consumer))\n",
    "\n",
    "i=1\n",
    "for p in bidsConsumer.Quantity\n",
    "    if i==1\n",
    "    else\n",
    "    aggregatedQ[i]=aggregatedQ[i-1]+p\n",
    "    end\n",
    "    i=i+1\n",
    "end\n",
    "\n",
    "insertcols!(bidsConsumer,4,AggregatedQ=aggregatedQ)"
   ]
  },
  {
   "cell_type": "code",
   "execution_count": 88,
   "metadata": {},
   "outputs": [
    {
     "data": {
      "image/svg+xml": [
       "<?xml version=\"1.0\" encoding=\"utf-8\"?>\n",
       "<svg xmlns=\"http://www.w3.org/2000/svg\" xmlns:xlink=\"http://www.w3.org/1999/xlink\" width=\"600\" height=\"400\" viewBox=\"0 0 2400 1600\">\n",
       "<defs>\n",
       "  <clipPath id=\"clip6600\">\n",
       "    <rect x=\"0\" y=\"0\" width=\"2400\" height=\"1600\"/>\n",
       "  </clipPath>\n",
       "</defs>\n",
       "<path clip-path=\"url(#clip6600)\" d=\"\n",
       "M0 1600 L2400 1600 L2400 0 L0 0  Z\n",
       "  \" fill=\"#ffffff\" fill-rule=\"evenodd\" fill-opacity=\"1\"/>\n",
       "<defs>\n",
       "  <clipPath id=\"clip6601\">\n",
       "    <rect x=\"480\" y=\"0\" width=\"1681\" height=\"1600\"/>\n",
       "  </clipPath>\n",
       "</defs>\n",
       "<path clip-path=\"url(#clip6600)\" d=\"\n",
       "M202.373 1425.62 L2352.76 1425.62 L2352.76 47.2441 L202.373 47.2441  Z\n",
       "  \" fill=\"#ffffff\" fill-rule=\"evenodd\" fill-opacity=\"1\"/>\n",
       "<defs>\n",
       "  <clipPath id=\"clip6602\">\n",
       "    <rect x=\"202\" y=\"47\" width=\"2151\" height=\"1379\"/>\n",
       "  </clipPath>\n",
       "</defs>\n",
       "<polyline clip-path=\"url(#clip6602)\" style=\"stroke:#000000; stroke-width:2; stroke-opacity:0.1; fill:none\" points=\"\n",
       "  202.373,1425.62 202.373,47.2441 \n",
       "  \"/>\n",
       "<polyline clip-path=\"url(#clip6602)\" style=\"stroke:#000000; stroke-width:2; stroke-opacity:0.1; fill:none\" points=\"\n",
       "  682.369,1425.62 682.369,47.2441 \n",
       "  \"/>\n",
       "<polyline clip-path=\"url(#clip6602)\" style=\"stroke:#000000; stroke-width:2; stroke-opacity:0.1; fill:none\" points=\"\n",
       "  1162.37,1425.62 1162.37,47.2441 \n",
       "  \"/>\n",
       "<polyline clip-path=\"url(#clip6602)\" style=\"stroke:#000000; stroke-width:2; stroke-opacity:0.1; fill:none\" points=\"\n",
       "  1642.36,1425.62 1642.36,47.2441 \n",
       "  \"/>\n",
       "<polyline clip-path=\"url(#clip6602)\" style=\"stroke:#000000; stroke-width:2; stroke-opacity:0.1; fill:none\" points=\"\n",
       "  2122.36,1425.62 2122.36,47.2441 \n",
       "  \"/>\n",
       "<polyline clip-path=\"url(#clip6602)\" style=\"stroke:#000000; stroke-width:2; stroke-opacity:0.1; fill:none\" points=\"\n",
       "  202.373,1195.41 2352.76,1195.41 \n",
       "  \"/>\n",
       "<polyline clip-path=\"url(#clip6602)\" style=\"stroke:#000000; stroke-width:2; stroke-opacity:0.1; fill:none\" points=\"\n",
       "  202.373,813.007 2352.76,813.007 \n",
       "  \"/>\n",
       "<polyline clip-path=\"url(#clip6602)\" style=\"stroke:#000000; stroke-width:2; stroke-opacity:0.1; fill:none\" points=\"\n",
       "  202.373,430.606 2352.76,430.606 \n",
       "  \"/>\n",
       "<polyline clip-path=\"url(#clip6602)\" style=\"stroke:#000000; stroke-width:2; stroke-opacity:0.1; fill:none\" points=\"\n",
       "  202.373,48.2058 2352.76,48.2058 \n",
       "  \"/>\n",
       "<polyline clip-path=\"url(#clip6600)\" style=\"stroke:#000000; stroke-width:4; stroke-opacity:1; fill:none\" points=\"\n",
       "  202.373,1425.62 2352.76,1425.62 \n",
       "  \"/>\n",
       "<polyline clip-path=\"url(#clip6600)\" style=\"stroke:#000000; stroke-width:4; stroke-opacity:1; fill:none\" points=\"\n",
       "  202.373,1425.62 202.373,47.2441 \n",
       "  \"/>\n",
       "<polyline clip-path=\"url(#clip6600)\" style=\"stroke:#000000; stroke-width:4; stroke-opacity:1; fill:none\" points=\"\n",
       "  202.373,1425.62 202.373,1409.08 \n",
       "  \"/>\n",
       "<polyline clip-path=\"url(#clip6600)\" style=\"stroke:#000000; stroke-width:4; stroke-opacity:1; fill:none\" points=\"\n",
       "  682.369,1425.62 682.369,1409.08 \n",
       "  \"/>\n",
       "<polyline clip-path=\"url(#clip6600)\" style=\"stroke:#000000; stroke-width:4; stroke-opacity:1; fill:none\" points=\"\n",
       "  1162.37,1425.62 1162.37,1409.08 \n",
       "  \"/>\n",
       "<polyline clip-path=\"url(#clip6600)\" style=\"stroke:#000000; stroke-width:4; stroke-opacity:1; fill:none\" points=\"\n",
       "  1642.36,1425.62 1642.36,1409.08 \n",
       "  \"/>\n",
       "<polyline clip-path=\"url(#clip6600)\" style=\"stroke:#000000; stroke-width:4; stroke-opacity:1; fill:none\" points=\"\n",
       "  2122.36,1425.62 2122.36,1409.08 \n",
       "  \"/>\n",
       "<polyline clip-path=\"url(#clip6600)\" style=\"stroke:#000000; stroke-width:4; stroke-opacity:1; fill:none\" points=\"\n",
       "  202.373,1195.41 228.178,1195.41 \n",
       "  \"/>\n",
       "<polyline clip-path=\"url(#clip6600)\" style=\"stroke:#000000; stroke-width:4; stroke-opacity:1; fill:none\" points=\"\n",
       "  202.373,813.007 228.178,813.007 \n",
       "  \"/>\n",
       "<polyline clip-path=\"url(#clip6600)\" style=\"stroke:#000000; stroke-width:4; stroke-opacity:1; fill:none\" points=\"\n",
       "  202.373,430.606 228.178,430.606 \n",
       "  \"/>\n",
       "<polyline clip-path=\"url(#clip6600)\" style=\"stroke:#000000; stroke-width:4; stroke-opacity:1; fill:none\" points=\"\n",
       "  202.373,48.2058 228.178,48.2058 \n",
       "  \"/>\n",
       "<g clip-path=\"url(#clip6600)\">\n",
       "<text style=\"fill:#000000; fill-opacity:1; font-family:Arial,Helvetica Neue,Helvetica,sans-serif; font-size:48px; text-anchor:middle;\" transform=\"rotate(0, 202.373, 1479.62)\" x=\"202.373\" y=\"1479.62\">0</text>\n",
       "</g>\n",
       "<g clip-path=\"url(#clip6600)\">\n",
       "<text style=\"fill:#000000; fill-opacity:1; font-family:Arial,Helvetica Neue,Helvetica,sans-serif; font-size:48px; text-anchor:middle;\" transform=\"rotate(0, 682.369, 1479.62)\" x=\"682.369\" y=\"1479.62\">50</text>\n",
       "</g>\n",
       "<g clip-path=\"url(#clip6600)\">\n",
       "<text style=\"fill:#000000; fill-opacity:1; font-family:Arial,Helvetica Neue,Helvetica,sans-serif; font-size:48px; text-anchor:middle;\" transform=\"rotate(0, 1162.37, 1479.62)\" x=\"1162.37\" y=\"1479.62\">100</text>\n",
       "</g>\n",
       "<g clip-path=\"url(#clip6600)\">\n",
       "<text style=\"fill:#000000; fill-opacity:1; font-family:Arial,Helvetica Neue,Helvetica,sans-serif; font-size:48px; text-anchor:middle;\" transform=\"rotate(0, 1642.36, 1479.62)\" x=\"1642.36\" y=\"1479.62\">150</text>\n",
       "</g>\n",
       "<g clip-path=\"url(#clip6600)\">\n",
       "<text style=\"fill:#000000; fill-opacity:1; font-family:Arial,Helvetica Neue,Helvetica,sans-serif; font-size:48px; text-anchor:middle;\" transform=\"rotate(0, 2122.36, 1479.62)\" x=\"2122.36\" y=\"1479.62\">200</text>\n",
       "</g>\n",
       "<g clip-path=\"url(#clip6600)\">\n",
       "<text style=\"fill:#000000; fill-opacity:1; font-family:Arial,Helvetica Neue,Helvetica,sans-serif; font-size:48px; text-anchor:end;\" transform=\"rotate(0, 178.373, 1212.91)\" x=\"178.373\" y=\"1212.91\">20</text>\n",
       "</g>\n",
       "<g clip-path=\"url(#clip6600)\">\n",
       "<text style=\"fill:#000000; fill-opacity:1; font-family:Arial,Helvetica Neue,Helvetica,sans-serif; font-size:48px; text-anchor:end;\" transform=\"rotate(0, 178.373, 830.507)\" x=\"178.373\" y=\"830.507\">40</text>\n",
       "</g>\n",
       "<g clip-path=\"url(#clip6600)\">\n",
       "<text style=\"fill:#000000; fill-opacity:1; font-family:Arial,Helvetica Neue,Helvetica,sans-serif; font-size:48px; text-anchor:end;\" transform=\"rotate(0, 178.373, 448.106)\" x=\"178.373\" y=\"448.106\">60</text>\n",
       "</g>\n",
       "<g clip-path=\"url(#clip6600)\">\n",
       "<text style=\"fill:#000000; fill-opacity:1; font-family:Arial,Helvetica Neue,Helvetica,sans-serif; font-size:48px; text-anchor:end;\" transform=\"rotate(0, 178.373, 65.7058)\" x=\"178.373\" y=\"65.7058\">80</text>\n",
       "</g>\n",
       "<g clip-path=\"url(#clip6600)\">\n",
       "<text style=\"fill:#000000; fill-opacity:1; font-family:Arial,Helvetica Neue,Helvetica,sans-serif; font-size:66px; text-anchor:middle;\" transform=\"rotate(0, 1277.56, 1559.48)\" x=\"1277.56\" y=\"1559.48\">Quantity [MWh]</text>\n",
       "</g>\n",
       "<g clip-path=\"url(#clip6600)\">\n",
       "<text style=\"fill:#000000; fill-opacity:1; font-family:Arial,Helvetica Neue,Helvetica,sans-serif; font-size:66px; text-anchor:middle;\" transform=\"rotate(-90, 89.2861, 736.431)\" x=\"89.2861\" y=\"736.431\">Price [EUR/MWh]</text>\n",
       "</g>\n",
       "<polyline clip-path=\"url(#clip6602)\" style=\"stroke:#00008b; stroke-width:8; stroke-opacity:1; fill:none\" points=\"\n",
       "  202.373,86.2547 202.373,86.4459 423.171,86.4459 423.171,335.006 759.169,335.006 759.169,373.246 1171.97,373.246 1171.97,621.807 1719.16,621.807 1719.16,698.287 \n",
       "  2083.96,698.287 2083.96,965.967 2237.56,965.967 2237.56,1386.61 2352.76,1386.61 \n",
       "  \"/>\n",
       "</svg>\n"
      ]
     },
     "execution_count": 88,
     "metadata": {},
     "output_type": "execute_result"
    }
   ],
   "source": [
    "plot(bidsConsumer.AggregatedQ,bidsConsumer.Price,w=2,t=:steppre, xlim=(0,sum(bidsConsumer.Quantity)), xlab=\"Quantity [MWh]\", ylab=\"Price [EUR/MWh]\", color=\"darkblue\", legend=false)"
   ]
  },
  {
   "cell_type": "markdown",
   "metadata": {},
   "source": [
    "**3.4 What is the total amount of energy asked for through the market? Compare it to the total amount of energy supply offers. Is there a problem there?**"
   ]
  },
  {
   "cell_type": "code",
   "execution_count": 84,
   "metadata": {},
   "outputs": [
    {
     "data": {
      "text/plain": [
       "224.0"
      ]
     },
     "execution_count": 84,
     "metadata": {},
     "output_type": "execute_result"
    }
   ],
   "source": [
    "maximum(aggregatedQ)"
   ]
  },
  {
   "cell_type": "markdown",
   "metadata": {},
   "source": [
    "There's less total energy demand than offered energy supply, that just means that some producers won't be dispatched in the market clearing mechanism."
   ]
  },
  {
   "cell_type": "markdown",
   "metadata": {},
   "source": [
    "## Problem 4: Equilibrium and market-clearing\n",
    "\n",
    "**4.1 Have your supply and demand curve on the same drawing/plot.**"
   ]
  },
  {
   "cell_type": "code",
   "execution_count": 89,
   "metadata": {},
   "outputs": [
    {
     "data": {
      "image/svg+xml": [
       "<?xml version=\"1.0\" encoding=\"utf-8\"?>\n",
       "<svg xmlns=\"http://www.w3.org/2000/svg\" xmlns:xlink=\"http://www.w3.org/1999/xlink\" width=\"600\" height=\"400\" viewBox=\"0 0 2400 1600\">\n",
       "<defs>\n",
       "  <clipPath id=\"clip7000\">\n",
       "    <rect x=\"0\" y=\"0\" width=\"2400\" height=\"1600\"/>\n",
       "  </clipPath>\n",
       "</defs>\n",
       "<path clip-path=\"url(#clip7000)\" d=\"\n",
       "M0 1600 L2400 1600 L2400 0 L0 0  Z\n",
       "  \" fill=\"#ffffff\" fill-rule=\"evenodd\" fill-opacity=\"1\"/>\n",
       "<defs>\n",
       "  <clipPath id=\"clip7001\">\n",
       "    <rect x=\"480\" y=\"0\" width=\"1681\" height=\"1600\"/>\n",
       "  </clipPath>\n",
       "</defs>\n",
       "<path clip-path=\"url(#clip7000)\" d=\"\n",
       "M202.373 1425.62 L2352.76 1425.62 L2352.76 47.2441 L202.373 47.2441  Z\n",
       "  \" fill=\"#ffffff\" fill-rule=\"evenodd\" fill-opacity=\"1\"/>\n",
       "<defs>\n",
       "  <clipPath id=\"clip7002\">\n",
       "    <rect x=\"202\" y=\"47\" width=\"2151\" height=\"1379\"/>\n",
       "  </clipPath>\n",
       "</defs>\n",
       "<polyline clip-path=\"url(#clip7002)\" style=\"stroke:#000000; stroke-width:2; stroke-opacity:0.1; fill:none\" points=\"\n",
       "  202.373,1425.62 202.373,47.2441 \n",
       "  \"/>\n",
       "<polyline clip-path=\"url(#clip7002)\" style=\"stroke:#000000; stroke-width:2; stroke-opacity:0.1; fill:none\" points=\"\n",
       "  646.667,1425.62 646.667,47.2441 \n",
       "  \"/>\n",
       "<polyline clip-path=\"url(#clip7002)\" style=\"stroke:#000000; stroke-width:2; stroke-opacity:0.1; fill:none\" points=\"\n",
       "  1090.96,1425.62 1090.96,47.2441 \n",
       "  \"/>\n",
       "<polyline clip-path=\"url(#clip7002)\" style=\"stroke:#000000; stroke-width:2; stroke-opacity:0.1; fill:none\" points=\"\n",
       "  1535.25,1425.62 1535.25,47.2441 \n",
       "  \"/>\n",
       "<polyline clip-path=\"url(#clip7002)\" style=\"stroke:#000000; stroke-width:2; stroke-opacity:0.1; fill:none\" points=\"\n",
       "  1979.55,1425.62 1979.55,47.2441 \n",
       "  \"/>\n",
       "<polyline clip-path=\"url(#clip7002)\" style=\"stroke:#000000; stroke-width:2; stroke-opacity:0.1; fill:none\" points=\"\n",
       "  202.373,1386.61 2352.76,1386.61 \n",
       "  \"/>\n",
       "<polyline clip-path=\"url(#clip7002)\" style=\"stroke:#000000; stroke-width:2; stroke-opacity:0.1; fill:none\" points=\"\n",
       "  202.373,1053.23 2352.76,1053.23 \n",
       "  \"/>\n",
       "<polyline clip-path=\"url(#clip7002)\" style=\"stroke:#000000; stroke-width:2; stroke-opacity:0.1; fill:none\" points=\"\n",
       "  202.373,719.846 2352.76,719.846 \n",
       "  \"/>\n",
       "<polyline clip-path=\"url(#clip7002)\" style=\"stroke:#000000; stroke-width:2; stroke-opacity:0.1; fill:none\" points=\"\n",
       "  202.373,386.464 2352.76,386.464 \n",
       "  \"/>\n",
       "<polyline clip-path=\"url(#clip7002)\" style=\"stroke:#000000; stroke-width:2; stroke-opacity:0.1; fill:none\" points=\"\n",
       "  202.373,53.0833 2352.76,53.0833 \n",
       "  \"/>\n",
       "<polyline clip-path=\"url(#clip7000)\" style=\"stroke:#000000; stroke-width:4; stroke-opacity:1; fill:none\" points=\"\n",
       "  202.373,1425.62 2352.76,1425.62 \n",
       "  \"/>\n",
       "<polyline clip-path=\"url(#clip7000)\" style=\"stroke:#000000; stroke-width:4; stroke-opacity:1; fill:none\" points=\"\n",
       "  202.373,1425.62 202.373,47.2441 \n",
       "  \"/>\n",
       "<polyline clip-path=\"url(#clip7000)\" style=\"stroke:#000000; stroke-width:4; stroke-opacity:1; fill:none\" points=\"\n",
       "  202.373,1425.62 202.373,1409.08 \n",
       "  \"/>\n",
       "<polyline clip-path=\"url(#clip7000)\" style=\"stroke:#000000; stroke-width:4; stroke-opacity:1; fill:none\" points=\"\n",
       "  646.667,1425.62 646.667,1409.08 \n",
       "  \"/>\n",
       "<polyline clip-path=\"url(#clip7000)\" style=\"stroke:#000000; stroke-width:4; stroke-opacity:1; fill:none\" points=\"\n",
       "  1090.96,1425.62 1090.96,1409.08 \n",
       "  \"/>\n",
       "<polyline clip-path=\"url(#clip7000)\" style=\"stroke:#000000; stroke-width:4; stroke-opacity:1; fill:none\" points=\"\n",
       "  1535.25,1425.62 1535.25,1409.08 \n",
       "  \"/>\n",
       "<polyline clip-path=\"url(#clip7000)\" style=\"stroke:#000000; stroke-width:4; stroke-opacity:1; fill:none\" points=\"\n",
       "  1979.55,1425.62 1979.55,1409.08 \n",
       "  \"/>\n",
       "<polyline clip-path=\"url(#clip7000)\" style=\"stroke:#000000; stroke-width:4; stroke-opacity:1; fill:none\" points=\"\n",
       "  202.373,1386.61 228.178,1386.61 \n",
       "  \"/>\n",
       "<polyline clip-path=\"url(#clip7000)\" style=\"stroke:#000000; stroke-width:4; stroke-opacity:1; fill:none\" points=\"\n",
       "  202.373,1053.23 228.178,1053.23 \n",
       "  \"/>\n",
       "<polyline clip-path=\"url(#clip7000)\" style=\"stroke:#000000; stroke-width:4; stroke-opacity:1; fill:none\" points=\"\n",
       "  202.373,719.846 228.178,719.846 \n",
       "  \"/>\n",
       "<polyline clip-path=\"url(#clip7000)\" style=\"stroke:#000000; stroke-width:4; stroke-opacity:1; fill:none\" points=\"\n",
       "  202.373,386.464 228.178,386.464 \n",
       "  \"/>\n",
       "<polyline clip-path=\"url(#clip7000)\" style=\"stroke:#000000; stroke-width:4; stroke-opacity:1; fill:none\" points=\"\n",
       "  202.373,53.0833 228.178,53.0833 \n",
       "  \"/>\n",
       "<g clip-path=\"url(#clip7000)\">\n",
       "<text style=\"fill:#000000; fill-opacity:1; font-family:Arial,Helvetica Neue,Helvetica,sans-serif; font-size:48px; text-anchor:middle;\" transform=\"rotate(0, 202.373, 1479.62)\" x=\"202.373\" y=\"1479.62\">0</text>\n",
       "</g>\n",
       "<g clip-path=\"url(#clip7000)\">\n",
       "<text style=\"fill:#000000; fill-opacity:1; font-family:Arial,Helvetica Neue,Helvetica,sans-serif; font-size:48px; text-anchor:middle;\" transform=\"rotate(0, 646.667, 1479.62)\" x=\"646.667\" y=\"1479.62\">50</text>\n",
       "</g>\n",
       "<g clip-path=\"url(#clip7000)\">\n",
       "<text style=\"fill:#000000; fill-opacity:1; font-family:Arial,Helvetica Neue,Helvetica,sans-serif; font-size:48px; text-anchor:middle;\" transform=\"rotate(0, 1090.96, 1479.62)\" x=\"1090.96\" y=\"1479.62\">100</text>\n",
       "</g>\n",
       "<g clip-path=\"url(#clip7000)\">\n",
       "<text style=\"fill:#000000; fill-opacity:1; font-family:Arial,Helvetica Neue,Helvetica,sans-serif; font-size:48px; text-anchor:middle;\" transform=\"rotate(0, 1535.25, 1479.62)\" x=\"1535.25\" y=\"1479.62\">150</text>\n",
       "</g>\n",
       "<g clip-path=\"url(#clip7000)\">\n",
       "<text style=\"fill:#000000; fill-opacity:1; font-family:Arial,Helvetica Neue,Helvetica,sans-serif; font-size:48px; text-anchor:middle;\" transform=\"rotate(0, 1979.55, 1479.62)\" x=\"1979.55\" y=\"1479.62\">200</text>\n",
       "</g>\n",
       "<g clip-path=\"url(#clip7000)\">\n",
       "<text style=\"fill:#000000; fill-opacity:1; font-family:Arial,Helvetica Neue,Helvetica,sans-serif; font-size:48px; text-anchor:end;\" transform=\"rotate(0, 178.373, 1404.11)\" x=\"178.373\" y=\"1404.11\">0</text>\n",
       "</g>\n",
       "<g clip-path=\"url(#clip7000)\">\n",
       "<text style=\"fill:#000000; fill-opacity:1; font-family:Arial,Helvetica Neue,Helvetica,sans-serif; font-size:48px; text-anchor:end;\" transform=\"rotate(0, 178.373, 1070.73)\" x=\"178.373\" y=\"1070.73\">20</text>\n",
       "</g>\n",
       "<g clip-path=\"url(#clip7000)\">\n",
       "<text style=\"fill:#000000; fill-opacity:1; font-family:Arial,Helvetica Neue,Helvetica,sans-serif; font-size:48px; text-anchor:end;\" transform=\"rotate(0, 178.373, 737.346)\" x=\"178.373\" y=\"737.346\">40</text>\n",
       "</g>\n",
       "<g clip-path=\"url(#clip7000)\">\n",
       "<text style=\"fill:#000000; fill-opacity:1; font-family:Arial,Helvetica Neue,Helvetica,sans-serif; font-size:48px; text-anchor:end;\" transform=\"rotate(0, 178.373, 403.964)\" x=\"178.373\" y=\"403.964\">60</text>\n",
       "</g>\n",
       "<g clip-path=\"url(#clip7000)\">\n",
       "<text style=\"fill:#000000; fill-opacity:1; font-family:Arial,Helvetica Neue,Helvetica,sans-serif; font-size:48px; text-anchor:end;\" transform=\"rotate(0, 178.373, 70.5833)\" x=\"178.373\" y=\"70.5833\">80</text>\n",
       "</g>\n",
       "<g clip-path=\"url(#clip7000)\">\n",
       "<text style=\"fill:#000000; fill-opacity:1; font-family:Arial,Helvetica Neue,Helvetica,sans-serif; font-size:66px; text-anchor:middle;\" transform=\"rotate(0, 1277.56, 1559.48)\" x=\"1277.56\" y=\"1559.48\">Quantity [MWh]</text>\n",
       "</g>\n",
       "<g clip-path=\"url(#clip7000)\">\n",
       "<text style=\"fill:#000000; fill-opacity:1; font-family:Arial,Helvetica Neue,Helvetica,sans-serif; font-size:66px; text-anchor:middle;\" transform=\"rotate(-90, 89.2861, 736.431)\" x=\"89.2861\" y=\"736.431\">Price [EUR/MWh]</text>\n",
       "</g>\n",
       "<polyline clip-path=\"url(#clip7002)\" style=\"stroke:#00008b; stroke-width:8; stroke-opacity:1; fill:none\" points=\"\n",
       "  202.373,86.2547 202.373,86.4214 406.748,86.4214 406.748,303.119 717.754,303.119 717.754,336.457 1099.85,336.457 1099.85,553.155 1606.34,553.155 1606.34,619.831 \n",
       "  1944.01,619.831 1944.01,853.198 2086.18,853.198 2086.18,1219.92 2192.81,1219.92 \n",
       "  \"/>\n",
       "<polyline clip-path=\"url(#clip7002)\" style=\"stroke:#8b0000; stroke-width:8; stroke-opacity:1; fill:none\" points=\"\n",
       "  202.373,1386.61 202.373,1386.61 486.721,1386.61 486.721,1219.92 1108.73,1219.92 1108.73,1136.57 1997.32,1136.57 1997.32,686.508 2219.47,686.508 2219.47,136.429 \n",
       "  2352.76,136.429 \n",
       "  \"/>\n",
       "</svg>\n"
      ]
     },
     "execution_count": 89,
     "metadata": {},
     "output_type": "execute_result"
    }
   ],
   "source": [
    "plot!(bidsSupplier.AggregatedQ,bidsSupplier.Price, xlim=(0,sum(bidsSupplier.Quantity)),w=2, t=:steppre, color=\"darkred\", legend=false)"
   ]
  },
  {
   "cell_type": "markdown",
   "metadata": {},
   "source": [
    "**4.2 Identify the \"equilibrium point\". What does it mean in the present case?**\n",
    "\n",
    "It should be the point where both curves match. It's the price that maximizes the social welfare of the system.\n",
    "\n",
    "**4.3 What is the equilibrium price and quantity?**"
   ]
  },
  {
   "cell_type": "code",
   "execution_count": 91,
   "metadata": {},
   "outputs": [
    {
     "data": {
      "text/plain": [
       "242"
      ]
     },
     "execution_count": 91,
     "metadata": {},
     "output_type": "execute_result"
    }
   ],
   "source": []
  },
  {
   "cell_type": "markdown",
   "metadata": {},
   "source": [
    "**4.4 Who will be effectively supplying power (and how much)? And, who will be effectively consuming (and how much)? Why does that make natural sense?**\n",
    "\n",
    "**4.5 Calculate social welfare.**"
   ]
  }
 ],
 "metadata": {
  "kernelspec": {
   "display_name": "Julia 1.3.1",
   "language": "julia",
   "name": "julia-1.3"
  },
  "language_info": {
   "file_extension": ".jl",
   "mimetype": "application/julia",
   "name": "julia",
   "version": "1.3.1"
  }
 },
 "nbformat": 4,
 "nbformat_minor": 2
}
